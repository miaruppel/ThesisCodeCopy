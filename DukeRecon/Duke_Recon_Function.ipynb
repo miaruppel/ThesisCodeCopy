{
 "cells": [
  {
   "cell_type": "markdown",
   "id": "9bd744d8",
   "metadata": {},
   "source": [
    "# Duke Recon Function"
   ]
  },
  {
   "cell_type": "markdown",
   "id": "0901bac4",
   "metadata": {},
   "source": [
    "## Importing Libraries & Supporting Scripts"
   ]
  },
  {
   "cell_type": "code",
   "execution_count": 1,
   "id": "c9f3b7c7",
   "metadata": {},
   "outputs": [
    {
     "name": "stderr",
     "output_type": "stream",
     "text": [
      "/home/labast/miniconda3/envs/DukePipeline/lib/python3.8/site-packages/skimage/util/dtype.py:27: DeprecationWarning: `np.bool8` is a deprecated alias for `np.bool_`.  (Deprecated NumPy 1.24)\n",
      "  np.bool8: (False, True),\n"
     ]
    }
   ],
   "source": [
    "import pdb\n",
    "import numpy as np\n",
    "from absl import app, logging\n",
    "import time\n",
    "from recon import dcf, kernel, proximity, recon_model, system_model\n",
    "from utils import io_utils\n",
    "import matplotlib.pyplot as plt\n",
    "\n",
    "import skimage.util\n",
    "\n",
    "from typing import Any, Optional, Tuple\n",
    "import math\n",
    "import spect.nmr_timefit as fit\n",
    "import pickle\n",
    "\n",
    "from scipy.io import loadmat\n",
    "import tkinter as tk\n",
    "from tkinter import filedialog\n",
    "\n",
    "import os\n",
    "parent_dir = os.getcwd()\n",
    "N = 128\n",
    "I = 1j"
   ]
  },
  {
   "cell_type": "markdown",
   "id": "093d90e6",
   "metadata": {},
   "source": [
    "## Defining Main Functions"
   ]
  },
  {
   "cell_type": "code",
   "execution_count": 2,
   "id": "f57766b5",
   "metadata": {},
   "outputs": [],
   "source": [
    "# Duke's main recon function \n",
    "def reconstruct(\n",
    "    data: np.ndarray,\n",
    "    traj: np.ndarray,\n",
    "    kernel_sharpness: float = 0.32,\n",
    "    kernel_extent: float = 0.32 * 9,\n",
    "    overgrid_factor: int = 3,\n",
    "    image_size: int = 128,\n",
    "    n_dcf_iter: int = 20,\n",
    "    verbosity: bool = True,\n",
    ") -> np.ndarray:\n",
    "    \"\"\"Reconstruct k-space data and trajectory.\n",
    "\n",
    "    Args:\n",
    "        data (np.ndarray): k space data of shape (K, 1)\n",
    "        traj (np.ndarray): k space trajectory of shape (K, 3)\n",
    "        kernel_sharpness (float): kernel sharpness. larger kernel sharpness is sharper\n",
    "            image\n",
    "        kernel_extent (float): kernel extent.\n",
    "        overgrid_factor (int): overgridding factor\n",
    "        image_size (int): target reconstructed image size\n",
    "            (image_size, image_size, image_size)\n",
    "        n_pipe_iter (int): number of dcf iterations\n",
    "        verbosity (bool): Log output messages\n",
    "\n",
    "    Returns:\n",
    "        np.ndarray: reconstructed image volume\n",
    "    \"\"\"\n",
    "    start_time = time.time()\n",
    "    prox_obj = proximity.L2Proximity(\n",
    "        kernel_obj=kernel.Gaussian(\n",
    "            kernel_extent=kernel_extent,\n",
    "            kernel_sigma=kernel_sharpness,\n",
    "            verbosity=verbosity,\n",
    "        ),\n",
    "        verbosity=verbosity,\n",
    "    )\n",
    "    system_obj = system_model.MatrixSystemModel(\n",
    "        proximity_obj=prox_obj,\n",
    "        overgrid_factor=overgrid_factor,\n",
    "        image_size=np.array([image_size, image_size, image_size]),\n",
    "        traj=traj,\n",
    "        verbosity=verbosity,\n",
    "    )\n",
    "    dcf_obj = dcf.IterativeDCF(\n",
    "        system_obj=system_obj, dcf_iterations=n_dcf_iter, verbosity=verbosity\n",
    "    )\n",
    "    recon_obj = recon_model.LSQgridded(\n",
    "        system_obj=system_obj, dcf_obj=dcf_obj, verbosity=verbosity\n",
    "    )\n",
    "    image = recon_obj.reconstruct(data=data, traj=traj)\n",
    "    del recon_obj, dcf_obj, system_obj, prox_obj\n",
    "    end_time = time.time()\n",
    "    execution_time = end_time - start_time\n",
    "    logging.info(\"Execution time: {:.2f} seconds\".format(execution_time))\n",
    "    return image"
   ]
  },
  {
   "cell_type": "code",
   "execution_count": 3,
   "id": "ec97b7fa",
   "metadata": {},
   "outputs": [],
   "source": [
    "def DisplayImageSlice(image, slice_id=N//2, image_type='modulus'):\n",
    "    \n",
    "    # display real component\n",
    "    if image_type == 'real' or  image_type == 'Real': \n",
    "        plt.imshow(np.real(image[:,:,slice_id])) # default is center slice \n",
    "        plt.title('Real Component of Image (2D Slice)') \n",
    "    # display imaginary component\n",
    "    elif image_type == 'imag' or  image_type == 'Imag' or image_type == 'imaginary' or image_type == 'Imaginary':\n",
    "        plt.imshow(np.imag(image[:,:,slice_id]))\n",
    "        plt.title('Imaginary Component of Image (2D Slice)') # default is center slice \n",
    "    else: # display modulus (default)\n",
    "        plt.imshow(np.abs(image[:,:,slice_id]))\n",
    "        plt.title('Modulus Component of Image (2D Slice)') # default is center slice \n",
    "\n",
    "    plt.colorbar()\n",
    "    plt.show()"
   ]
  },
  {
   "cell_type": "code",
   "execution_count": 4,
   "id": "ccd4feef",
   "metadata": {},
   "outputs": [],
   "source": [
    "def makeSlide(A):\n",
    "    ''' displays 3D array as a 2D grayscale image montage'''\n",
    "    plt.imshow(skimage.util.montage([abs(A[:,:,k]) \n",
    "                                     for k in range(0,A.shape[2])], padding_width=1, fill=0))\n",
    "    plt.show()"
   ]
  },
  {
   "cell_type": "markdown",
   "id": "3f9ceafb",
   "metadata": {},
   "source": [
    "## Loading Data"
   ]
  },
  {
   "cell_type": "code",
   "execution_count": 5,
   "id": "a5e68dd1",
   "metadata": {},
   "outputs": [],
   "source": [
    "# loading trajectory \n",
    "if parent_dir.endswith('-main'):\n",
    "    os.chdir('..')\n",
    "    os.chdir('..')\n",
    "parent_dir = os.getcwd()\n",
    "    \n",
    "traj = loadmat('traj/traj_gas_afia.mat')\n",
    "\n",
    "# k-space x, y, and z points \n",
    "kx = traj['data'][:,:,0].ravel()\n",
    "ky = traj['data'][:,:,1].ravel()\n",
    "kz = traj['data'][:,:,2].ravel()\n",
    "\n",
    "# rescaling based on N\n",
    "#kx = kx*N\n",
    "#ky = ky*N\n",
    "#kz = kz*N\n",
    "# trajectory has already been scaled!\n",
    "\n",
    "trajlist = np.column_stack((kx, ky, kz))"
   ]
  },
  {
   "cell_type": "code",
   "execution_count": 6,
   "id": "f4887641",
   "metadata": {},
   "outputs": [],
   "source": [
    "# phasors from data synthesizer\n",
    "phasors_128 = np.load((os.path.join(parent_dir, \n",
    "                                     'DataSynthesizer/3D_binary_multisphere_radtraj_phasors_128.npy')))\n",
    "phasors_128 = phasors_128.reshape((phasors_128.shape[0], 1))"
   ]
  },
  {
   "cell_type": "markdown",
   "id": "54ebff11",
   "metadata": {},
   "source": [
    "## Gas Reconstruction"
   ]
  },
  {
   "cell_type": "code",
   "execution_count": 7,
   "id": "262420ed",
   "metadata": {},
   "outputs": [],
   "source": [
    "# running main recon function\n",
    "image_gas_highsnr = reconstruct(\n",
    "data=phasors_128,\n",
    "traj=trajlist,\n",
    "kernel_sharpness=float(0.14),\n",
    "kernel_extent=9 * float(0.14),\n",
    "image_size=int(128),\n",
    ")\n",
    "\n",
    "image_gas_highreso = reconstruct(\n",
    "data=phasors_128,\n",
    "traj=trajlist,\n",
    "kernel_sharpness=float(0.32),\n",
    "kernel_extent=9 * float(0.32),\n",
    "image_size=int(128),\n",
    ") "
   ]
  },
  {
   "cell_type": "code",
   "execution_count": 8,
   "id": "85b6e701",
   "metadata": {},
   "outputs": [],
   "source": [
    "# need to swap axes and reverse order to get back to original image\n",
    "image_gas_highreso = np.abs(np.transpose(image_gas_highreso, (1, 2, 0)))[127::-1, 127::-1, 127::-1]\n",
    "#makeSlide(image_gas_highreso)"
   ]
  },
  {
   "cell_type": "markdown",
   "id": "ce6e7ab2",
   "metadata": {},
   "source": [
    "## Dissolved Phase Reconstruction"
   ]
  },
  {
   "cell_type": "code",
   "execution_count": 9,
   "id": "fdb3c4cd",
   "metadata": {},
   "outputs": [],
   "source": [
    "image_dissolved = reconstruct(\n",
    "            data=phasors_128,\n",
    "            traj=trajlist,\n",
    "            kernel_sharpness=float(0.14),\n",
    "            kernel_extent=9 * float(0.14),\n",
    "            image_size=int(128),\n",
    "           )"
   ]
  },
  {
   "cell_type": "code",
   "execution_count": 10,
   "id": "6bec5f88",
   "metadata": {},
   "outputs": [],
   "source": [
    "# need to swap axes and reverse order to get back to original image\n",
    "image_dissolved = np.abs(np.transpose(image_dissolved, (1, 2, 0)))[127::-1, 127::-1, 127::-1]\n",
    "#makeSlide(image_dissolved)"
   ]
  },
  {
   "cell_type": "markdown",
   "id": "849df8e7",
   "metadata": {},
   "source": [
    "## Dixon Reconstruction"
   ]
  },
  {
   "cell_type": "code",
   "execution_count": 11,
   "id": "c1048d57",
   "metadata": {},
   "outputs": [],
   "source": [
    "def round_up(x: float, decimals: int = 0) -> float:\n",
    "    return math.ceil(x * 10**decimals) / 10**decimals"
   ]
  },
  {
   "cell_type": "code",
   "execution_count": 12,
   "id": "7533214e",
   "metadata": {},
   "outputs": [],
   "source": [
    "# calculating rbc/membrane ratio\n",
    "def calculate_static_spectroscopy(\n",
    "    fid: np.ndarray,\n",
    "    dwell_time: float = 1.95e-05,\n",
    "    tr: float = 0.015,\n",
    "    center_freq: float = 34.09,\n",
    "    rf_excitation: int = 218,\n",
    "    n_avg: Optional[int] = None,\n",
    "    n_avg_seconds: int = 1,\n",
    "    method: str = \"voigt\",\n",
    "    plot: bool = False,\n",
    ") -> Tuple[float, Any]:\n",
    "    \"\"\"Fit static spectroscopy data to Voigt model and extract RBC:M ratio.\n",
    "\n",
    "    The RBC:M ratio is defined as the ratio of the fitted RBC peak area to the membrane\n",
    "    peak area.\n",
    "    Args:\n",
    "        fid (np.ndarray): Dissolved phase FIDs in format (n_points, n_frames).\n",
    "        dwell_time (float): Dwell time in seconds.\n",
    "        tr (float): TR in seconds.\n",
    "        center_freq (float): Center frequency in MHz.\n",
    "        rf_excitation (int, optional): _description_. Excitation frequency in ppm.\n",
    "        n_avg (int, optional): Number of FIDs to average for static spectroscopy.\n",
    "        n_avg_seconds (int): Number of seconds to average for\n",
    "            static spectroscopy.\n",
    "        plot (bool, optional): Plot the fit. Defaults to False.\n",
    "\n",
    "    Returns:\n",
    "        Tuple of RBC:M ratio and fit object\n",
    "    \"\"\"\n",
    "    t = np.array(range(0, np.shape(fid)[0])) * dwell_time\n",
    "    t_tr = np.array(range(0, np.shape(fid)[1])) * tr\n",
    "\n",
    "    start_time=2\n",
    "    end_time=10\n",
    "\n",
    "    start_ind = np.argwhere(np.array([round_up(x, 2) for x in t_tr]) == start_time)\n",
    "    end_ind = np.argwhere(np.array([round_up(x, 2) for x in t_tr]) == end_time)\n",
    "\n",
    "    if np.size(start_ind) == 0:\n",
    "        start_ind = [0]\n",
    "    if np.size(end_ind) == 0:\n",
    "        end_ind = [np.size(t_tr)]\n",
    "\n",
    "    start_ind= int(start_ind[int(np.floor(np.size(start_ind) / 2))])\n",
    "\n",
    "    # calculate number of FIDs to average\n",
    "    if n_avg:\n",
    "        n_avg = n_avg\n",
    "    else:\n",
    "        n_avg = int(n_avg_seconds / tr)\n",
    "\n",
    "    end_ind = np.min([len(fid[0, :]) - 1, start_ind + n_avg + 1])\n",
    "    data_dis_avg = np.average(fid[:, start_ind:end_ind], axis=1)\n",
    "\n",
    "    fit_obj = fit.NMR_TimeFit(\n",
    "        ydata=data_dis_avg,\n",
    "        tdata=t,\n",
    "        area=np.array([1,1,1]),\n",
    "        freq= np.array([0, -21.7, -218.0]) * center_freq,\n",
    "        fwhmL=np.array([8.8, 5.0, 2.0]) * center_freq,\n",
    "        fwhmG=np.array([0, 6.1, 0]) * center_freq,\n",
    "        phase=np.array([0, 0, 0]),\n",
    "        line_broadening=0,\n",
    "        zeropad_size=np.size(t),\n",
    "        method=method,\n",
    "    )\n",
    "    lb = np.stack(\n",
    "        (\n",
    "            [-np.inf, -np.inf, -np.inf],\n",
    "            [-np.inf, -np.inf, -np.inf],\n",
    "            [-np.inf, -np.inf, -np.inf],\n",
    "            [-np.inf, -np.inf, -np.inf],\n",
    "            [-np.inf, -np.inf, -np.inf],\n",
    "        )\n",
    "    ).flatten()\n",
    "    ub = np.stack(\n",
    "        (\n",
    "            [+np.inf, +np.inf, +np.inf],\n",
    "            [+np.inf, +np.inf, +np.inf],\n",
    "            [+np.inf, +np.inf, +np.inf],\n",
    "            [+np.inf, +np.inf, +np.inf],\n",
    "            [+np.inf, +np.inf, +np.inf],\n",
    "        )\n",
    "    ).flatten()\n",
    "    bounds = (lb, ub)\n",
    "    fit_obj.fit_time_signal_residual(bounds=bounds)\n",
    "    \n",
    "    if plot:\n",
    "        fit_obj.plot_time_spect_fit()\n",
    "    rbc_m_ratio = fit_obj.area[0] / np.sum(fit_obj.area[1])\n",
    "    \n",
    "    return rbc_m_ratio, fit_obj"
   ]
  },
  {
   "cell_type": "code",
   "execution_count": 13,
   "id": "b86dfdb0",
   "metadata": {},
   "outputs": [],
   "source": [
    "# load in dictionary (created using flip cal data) from a real data example\n",
    "os.chdir(os.path.join(parent_dir, 'DataSynthesizer'))\n",
    "with open('Xe0067Pre_dict_dyn.pkl', 'rb') as pickle_file:\n",
    "    dict_dyn = pickle.load(pickle_file)"
   ]
  },
  {
   "cell_type": "code",
   "execution_count": 14,
   "id": "9e338362",
   "metadata": {},
   "outputs": [
    {
     "name": "stdout",
     "output_type": "stream",
     "text": [
      "0.4430417883756298\n"
     ]
    }
   ],
   "source": [
    "rbc_m_ratio, _ = calculate_static_spectroscopy(\n",
    "                fid=dict_dyn[\"fids_dis\"],\n",
    "                dwell_time=dict_dyn[\"dwell_time\"],\n",
    "                tr=dict_dyn[\"tr\"],\n",
    "                center_freq=dict_dyn[\"freq_center\"],\n",
    "                rf_excitation=dict_dyn[\"freq_excitation\"],\n",
    "                plot=False,\n",
    "                )\n",
    "print(rbc_m_ratio)"
   ]
  },
  {
   "cell_type": "code",
   "execution_count": 15,
   "id": "e69464e3",
   "metadata": {},
   "outputs": [],
   "source": [
    "# create mask with normal threshold method\n",
    "def normalize_images(images):\n",
    "    # initial zero ndarray\n",
    "    normalized_images = np.zeros_like(images.astype(float))\n",
    "\n",
    "    # first index is number of images\n",
    "    #other indices indicates height, width, and depth of the image\n",
    "    num_images = images.shape[0]\n",
    "\n",
    "    # computing the minimum and maximum value of the input image for normalization \n",
    "    maximum_value, minimum_value = images.max(), images.min()\n",
    "\n",
    "    # normalize all the pixel values of the images to be from 0 to 1\n",
    "    for img in range(num_images):\n",
    "        normalized_images[img, ...] = (images[img, ...] - float(minimum_value)) / float(maximum_value - minimum_value)\n",
    "\n",
    "    return normalized_images"
   ]
  },
  {
   "cell_type": "code",
   "execution_count": 16,
   "id": "feaff9e3",
   "metadata": {},
   "outputs": [],
   "source": [
    "imgGasHiSNRNorm=normalize_images(abs(image_gas_highsnr))\n",
    "\n",
    "threshold_value=0.5\n",
    "mask_hiSNR = abs(imgGasHiSNRNorm) > threshold_value"
   ]
  },
  {
   "cell_type": "code",
   "execution_count": 17,
   "id": "eeec4428",
   "metadata": {},
   "outputs": [],
   "source": [
    "def correct_b0(\n",
    "    image: np.ndarray, mask: np.ndarray, max_iterations: int = 100\n",
    ") -> np.ndarray:\n",
    "    # correct B0 inhomogeneity\n",
    "\n",
    "    index = 0\n",
    "    meanphase = 1\n",
    "\n",
    "    while abs(meanphase) > 1e-7:\n",
    "        index = index + 1\n",
    "        diffphase = np.angle(image)\n",
    "        meanphase = np.mean(diffphase[mask])  # type: ignore\n",
    "        image = np.multiply(image, np.exp(-1j * meanphase))\n",
    "        if index > max_iterations:\n",
    "            break\n",
    "    return np.angle(image)  # type: ignore"
   ]
  },
  {
   "cell_type": "code",
   "execution_count": 18,
   "id": "742cc124",
   "metadata": {},
   "outputs": [],
   "source": [
    "diffphase = correct_b0(image_gas_highsnr, mask_hiSNR)\n",
    "\n",
    "# calculate phase shift to separate RBC and membrane\n",
    "desired_angle = np.arctan2(rbc_m_ratio, 1.0)  # calculated from the flipcal file\n",
    "current_angle = np.angle(np.sum(image_dissolved[mask_hiSNR > 0]))\n",
    "delta_angle = desired_angle - current_angle\n",
    "image_dixon = np.multiply(image_dissolved, np.exp(1j * (delta_angle)))\n",
    "image_dixon = np.multiply(image_dixon, np.exp(1j * (-diffphase)))\n",
    "\n",
    "# separate RBC and membrane components\n",
    "\n",
    "image_rbc = (\n",
    "        np.imag(image_dixon)\n",
    "        if np.mean(np.imag(image_dixon)[mask_hiSNR]) > 0\n",
    "        else -1 * np.imag(image_dixon)  # type: ignore\n",
    "    )\n",
    "image_membrane = (\n",
    "        np.real(image_dixon)\n",
    "        if np.mean(np.real(image_dixon)[mask_hiSNR]) > 0\n",
    "        else -1 * np.real(image_dixon)  # type: ignore\n",
    "    )"
   ]
  },
  {
   "cell_type": "markdown",
   "id": "eb737bef",
   "metadata": {},
   "source": [
    "## Displaying Gas, Membrane, & RBC"
   ]
  },
  {
   "cell_type": "code",
   "execution_count": 33,
   "id": "84c22c89",
   "metadata": {},
   "outputs": [],
   "source": [
    "def display_multiple_slices(*arrays):\n",
    "    '''Displays multiple 3D arrays on the same figure using makeSlide'''\n",
    "\n",
    "    num_arrays = len(arrays)\n",
    "\n",
    "    # create a figure with subplots for each array\n",
    "    fig, axes = plt.subplots(1, num_arrays, figsize=(4 * num_arrays, 4))\n",
    "\n",
    "    for i, A in enumerate(arrays):\n",
    "        # display each array using the makeSlide function\n",
    "        axes[i].imshow(skimage.util.montage([abs(A[:, :, k]) for k in range(0, A.shape[2])], padding_width=1, fill=0))\n",
    "        if i==0:\n",
    "            axes[i].set_title('Gas')\n",
    "        elif i==1:\n",
    "            axes[i].set_title('Membrane')\n",
    "        elif i==2:\n",
    "            axes[i].set_title('RBC')\n",
    "\n",
    "    plt.tight_layout()\n",
    "    plt.show()"
   ]
  },
  {
   "cell_type": "code",
   "execution_count": 34,
   "id": "3162a6f9",
   "metadata": {},
   "outputs": [],
   "source": [
    "display_multiple_slices(image_gas_highreso, image_membrane, image_rbc)"
   ]
  }
 ],
 "metadata": {
  "kernelspec": {
   "display_name": "Python 3 (ipykernel)",
   "language": "python",
   "name": "python3"
  },
  "language_info": {
   "codemirror_mode": {
    "name": "ipython",
    "version": 3
   },
   "file_extension": ".py",
   "mimetype": "text/x-python",
   "name": "python",
   "nbconvert_exporter": "python",
   "pygments_lexer": "ipython3",
   "version": "3.8.18"
  }
 },
 "nbformat": 4,
 "nbformat_minor": 5
}
