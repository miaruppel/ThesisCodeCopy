{
 "cells": [
  {
   "cell_type": "markdown",
   "id": "89822706",
   "metadata": {},
   "source": [
    "# Reading in Scanner Data"
   ]
  },
  {
   "cell_type": "code",
   "execution_count": 1,
   "id": "b834d994",
   "metadata": {},
   "outputs": [],
   "source": [
    "import mapvbvd\n",
    "import numpy as np"
   ]
  },
  {
   "cell_type": "code",
   "execution_count": 2,
   "id": "e6bb6a07",
   "metadata": {},
   "outputs": [
    {
     "name": "stdout",
     "output_type": "stream",
     "text": [
      "pymapVBVD version 0.5.6\n",
      "Software version: VD\n"
     ]
    },
    {
     "data": {
      "application/vnd.jupyter.widget-view+json": {
       "model_id": "",
       "version_major": 2,
       "version_minor": 0
      },
      "text/plain": [
       "Scan 1/1, read all mdhs:   0%|          | 0.00/2.60M [00:00<?, ?B/s]"
      ]
     },
     "metadata": {},
     "output_type": "display_data"
    },
    {
     "data": {
      "application/vnd.jupyter.widget-view+json": {
       "model_id": "",
       "version_major": 2,
       "version_minor": 0
      },
      "text/plain": [
       "read data:   0%|          | 0/2030 [00:00<?, ?it/s]"
      ]
     },
     "metadata": {},
     "output_type": "display_data"
    }
   ],
   "source": [
    "# reading dixon file \n",
    "dixon_path = '/Users/mia/Desktop/test/meas_MID00096_FID58065_7__xe_radial_Dixon_2201_DP.dat'\n",
    "\n",
    "twix_obj = mapvbvd.mapVBVD(dixon_path)\n",
    "twix_obj.image.squeeze = True\n",
    "twix_obj.image.flagIgnoreSeg = True\n",
    "twix_obj.image.flagRemoveOS = False\n",
    "\n",
    "# separating gas and dissolved phases\n",
    "raw_fids = np.transpose(twix_obj.image.unsorted().astype(np.cdouble))\n",
    "data_gas = raw_fids[:-30][0::2, :]\n",
    "data_dis = raw_fids[:-30][1::2, :]"
   ]
  },
  {
   "cell_type": "code",
   "execution_count": 3,
   "id": "0ee5496e",
   "metadata": {},
   "outputs": [
    {
     "data": {
      "application/vnd.jupyter.widget-view+json": {
       "model_id": "",
       "version_major": 2,
       "version_minor": 0
      },
      "text/plain": [
       "read data:   0%|          | 0/2030 [00:00<?, ?it/s]"
      ]
     },
     "metadata": {},
     "output_type": "display_data"
    }
   ],
   "source": [
    "dwell_time= float(twix_obj.hdr.Phoenix[(\"sRXSPEC\", \"alDwellTime\", \"0\")]) * 1e-9\n",
    "fa_dis=float (twix_obj.hdr.Meas[\"adFlipAngleDegree\"].split(\" \")[1])\n",
    "fa_gas=float(twix_obj.hdr.Meas[\"adFlipAngleDegree\"].split(\" \")[0])\n",
    "field_strength= twix_obj.hdr.Dicom.flMagneticFieldStrength\n",
    "fids= np.transpose(twix_obj.image.unsorted().astype(np.cdouble))\n",
    "fids_gas=data_gas\n",
    "fids_dis=data_dis\n",
    "fov= float(twix_obj.hdr.Config.ReadFoV) / 10.0\n",
    "freq_center= int(twix_obj.hdr.Dicom[\"lFrequency\"]) * 1e-6\n",
    "freq_excitation= 218.0 #Hard coded\n",
    "grad_delay_x=-7\n",
    "grad_delay_y=-7\n",
    "grad_delay_z=-7\n",
    "n_frames = data_dis.shape[0]\n",
    "n_skip_end = 0\n",
    "n_skip_start = 0\n",
    "orientation= str(twix_obj.hdr.Dicom.tOrientation)\n",
    "protocol_name= str(twix_obj.hdr.Config.ProtocolName)\n",
    "ramp_time=float(twix_obj[\"hdr\"][\"Meas\"][\"alRegridRampupTime\"].split()[0])\n",
    "removeos=twix_obj.image.flagRemoveOS\n",
    "scan_date='2023'\n",
    "software_version= twix_obj.hdr.Dicom.SoftwareVersions\n",
    "te90=twix_obj.hdr.Phoenix[(\"alTE\", \"0\")] * 1e-6\n",
    "tr =2 * int(twix_obj.hdr.Config.TR.split(\" \")[0]) * 1e-6\n",
    "bandwidth= 1.0 / (2 * dwell_time * fids_dis.shape[1])"
   ]
  },
  {
   "cell_type": "code",
   "execution_count": 4,
   "id": "381434bb",
   "metadata": {},
   "outputs": [],
   "source": [
    "dict_dis={\n",
    "\"dwell_time\":dwell_time,\n",
    "\"fa_dis\": fa_dis,\n",
    "\"fa_gas\": fa_gas,\n",
    "\"field_strength\": field_strength,\n",
    "\"fids\": fids,\n",
    "\"fids_dis\": fids_dis,\n",
    "\"fids_gas\":fids_gas,\n",
    "\"fov\":fov,\n",
    "\"freq_center\":freq_center,\n",
    "\"freq_excitation\":freq_excitation,\n",
    "\"grad_delay_x\":grad_delay_x,\n",
    "\"grad_delay_y\":grad_delay_y,\n",
    "\"grad_delay_z\":grad_delay_z,\n",
    "\"n_frames\":n_frames,\n",
    "\"n_skip_end\":n_skip_end,\n",
    "\"n_skip_start\":n_skip_start,\n",
    "\"orientation\":orientation,\n",
    "\"protocol_name\":protocol_name,\n",
    "\"ramp_time\":ramp_time,\n",
    "\"removeos\":removeos,\n",
    "\"scan_date\":scan_date,\n",
    "\"software_version\":software_version,\n",
    "\"te90\":te90,\n",
    "\"tr\":tr,\n",
    "\"bandwidth\":bandwidth}"
   ]
  },
  {
   "cell_type": "code",
   "execution_count": 5,
   "id": "b22c179f",
   "metadata": {},
   "outputs": [],
   "source": [
    "data_gas = dict_dis[\"fids_gas\"]\n",
    "data_dis= dict_dis[\"fids_dis\"] "
   ]
  },
  {
   "cell_type": "code",
   "execution_count": 6,
   "id": "b6fa677e",
   "metadata": {},
   "outputs": [
    {
     "name": "stdout",
     "output_type": "stream",
     "text": [
      "pymapVBVD version 0.5.6\n",
      "Software version: VD\n"
     ]
    },
    {
     "data": {
      "application/vnd.jupyter.widget-view+json": {
       "model_id": "",
       "version_major": 2,
       "version_minor": 0
      },
      "text/plain": [
       "Scan 1/1, read all mdhs:   0%|          | 0.00/3.13M [00:00<?, ?B/s]"
      ]
     },
     "metadata": {},
     "output_type": "display_data"
    },
    {
     "data": {
      "application/vnd.jupyter.widget-view+json": {
       "model_id": "",
       "version_major": 2,
       "version_minor": 0
      },
      "text/plain": [
       "read data:   0%|          | 0/520 [00:00<?, ?it/s]"
      ]
     },
     "metadata": {},
     "output_type": "display_data"
    }
   ],
   "source": [
    "# reading flip cal data \n",
    "flip_path = '/Users/mia/Desktop/test/meas_MID00076_FID58045_5_fid_xe_calibration_2201.dat'\n",
    "\n",
    "twix_obj = mapvbvd.mapVBVD(flip_path)\n",
    "twix_obj.image.squeeze = True\n",
    "twix_obj.image.flagIgnoreSeg = True\n",
    "twix_obj.image.flagRemoveOS = False\n",
    "\n",
    "raw_fids= twix_obj.image[\"\"].astype(np.cdouble)\n",
    "raw_fids= raw_fids[:, 0 : -(1 + n_skip_end)]"
   ]
  },
  {
   "cell_type": "code",
   "execution_count": 7,
   "id": "74b5649f",
   "metadata": {},
   "outputs": [],
   "source": [
    "dwell_time = float(twix_obj.hdr.Phoenix[(\"sRXSPEC\", \"alDwellTime\", \"0\")]) * 1e-9\n",
    "fids_dis = raw_fids\n",
    "freq_center = int(twix_obj.hdr.Dicom[\"lFrequency\"]) * 1e-6\n",
    "freq_excitation = 218.0 #Hard coded\n",
    "scan_date ='2023'\n",
    "tr =float(twix_obj.hdr.Config.TR.split(\" \")[0]) * 1e-6"
   ]
  },
  {
   "cell_type": "code",
   "execution_count": 8,
   "id": "513aa03f",
   "metadata": {},
   "outputs": [],
   "source": [
    "# create dictionary from flip cal\n",
    "dict_dyn={\n",
    "\"dwell_time\": dwell_time,\n",
    "\"fids_dis\": fids_dis,\n",
    "\"freq_center\":freq_center,\n",
    "\"freq_excitation\":freq_excitation,\n",
    "\"scan_date\":scan_date,\n",
    "\"tr\":tr}"
   ]
  },
  {
   "cell_type": "code",
   "execution_count": 9,
   "id": "eb3ff7e1",
   "metadata": {},
   "outputs": [],
   "source": [
    "# introduce pipeline\n",
    "data_gas_flatten= data_gas.reshape((data_gas.shape[0] * data_gas.shape[1], 1))\n",
    "data_dis_flatten= data_dis.reshape((data_dis.shape[0] * data_dis.shape[1], 1))\n",
    "\n",
    "from scipy.io import loadmat\n",
    "import os\n",
    "import matplotlib.pyplot as plt\n",
    "import skimage.util\n",
    "from main.DukeImageRecon import ImageRecon\n",
    "# two input arguments: data, trajectory\n",
    "from main.DukeDixonDecon import DixonDecon\n",
    "# three input arguments: dictionary (from flip cal data), high SNR gas image, dissolved image\n",
    "parent_dir = os.getcwd()\n",
    "N = 128\n",
    "I = 1j"
   ]
  },
  {
   "cell_type": "code",
   "execution_count": 10,
   "id": "76bb7776",
   "metadata": {},
   "outputs": [],
   "source": [
    "# TRAJECTORY\n",
    "# loading trajectory \n",
    "if parent_dir.endswith('DukeRecon'):\n",
    "    os.chdir('..')\n",
    "traj = loadmat('traj/traj_gas_afia.mat')\n",
    "current_dir = os.getcwd()\n",
    "# k-space x, y, and z points \n",
    "kx = traj['data'][:,:,0].ravel()\n",
    "ky = traj['data'][:,:,1].ravel()\n",
    "kz = traj['data'][:,:,2].ravel()\n",
    "# rescaling based on N\n",
    "#kx = kx*N\n",
    "#ky = ky*N\n",
    "#kz = kz*N\n",
    "# trajectory has already been scaled!\n",
    "trajlist = np.column_stack((kx, ky, kz))"
   ]
  },
  {
   "cell_type": "code",
   "execution_count": 11,
   "id": "5148111d",
   "metadata": {},
   "outputs": [
    {
     "name": "stdout",
     "output_type": "stream",
     "text": [
      "Execution time: 8.47 seconds\n",
      "Execution time: 13.52 seconds\n",
      "Execution time: 8.23 seconds\n"
     ]
    }
   ],
   "source": [
    "image_gas_highreso, image_gas_highsnr, image_dissolved = ImageRecon(data_dis_flatten, trajlist, data_type='real')"
   ]
  },
  {
   "cell_type": "code",
   "execution_count": 14,
   "id": "c50e7761",
   "metadata": {},
   "outputs": [
    {
     "name": "stdout",
     "output_type": "stream",
     "text": [
      "RBC/M Ratio: 0.2763077528259101\n"
     ]
    }
   ],
   "source": [
    "image_membrane, image_rbc, mask, diffphase = DixonDecon(dict_dyn, image_gas_highsnr, image_dissolved, data_type='real')"
   ]
  },
  {
   "cell_type": "code",
   "execution_count": 21,
   "id": "5f0535c4",
   "metadata": {},
   "outputs": [],
   "source": [
    "def display_zoomed_slices_all3(arr, row, zoom_factor=2):\n",
    "    plt.figure(figsize=(15, 5))\n",
    "    ss = 60\n",
    "    for i in range(3):\n",
    "        plt.subplot(3, 14, row * 14 + i + 1)\n",
    "        \n",
    "        # Extract a single slice\n",
    "        slice_2d = abs(arr[:, :, ss])\n",
    "        \n",
    "        # Define the zoomed size\n",
    "        zoomed_size = slice_2d.shape[0] * zoom_factor\n",
    "        \n",
    "        # Calculate the indices for slicing\n",
    "        start_index = (zoomed_size - slice_2d.shape[0]) // 2\n",
    "        end_index = start_index + slice_2d.shape[0]\n",
    "        \n",
    "        # Perform zooming\n",
    "        zoomed_slice = np.kron(slice_2d, np.ones((zoom_factor, zoom_factor)))\n",
    "        \n",
    "        # Trim the zoomed array to match the desired size\n",
    "        zoomed_slice = zoomed_slice[start_index:end_index, start_index:end_index]\n",
    "\n",
    "        plt.imshow(zoomed_slice, cmap='gray')\n",
    "        ss = ss + 1\n",
    "        plt.axis('off')\n",
    "    plt.subplots_adjust(wspace=0.1)\n",
    "\n",
    "# Display zoomed array1 slices\n",
    "display_zoomed_slices_all3(image_gas_highreso, row=0)\n",
    "\n",
    "# Display zoomed array2 slices\n",
    "display_zoomed_slices_all3(image_rbc, row=1)\n",
    "\n",
    "# Display zoomed array3 slices\n",
    "display_zoomed_slices_all3(image_membrane, row=2)\n",
    "\n",
    "plt.show()"
   ]
  },
  {
   "cell_type": "code",
   "execution_count": 14,
   "id": "9691f498",
   "metadata": {},
   "outputs": [],
   "source": [
    "def zoom_slices(arr, zoom_factor=2):\n",
    "    zoomed_slices = []\n",
    "    num_slices = 9\n",
    "    ss = 58\n",
    "    for i in range(num_slices):\n",
    "        # Extract a single slice\n",
    "        slice_2d = abs(arr[:, :, ss])\n",
    "        \n",
    "        # Define the zoomed size\n",
    "        zoomed_size = slice_2d.shape[0] * zoom_factor\n",
    "        \n",
    "        # Calculate the indices for slicing\n",
    "        start_index = (zoomed_size - slice_2d.shape[0]) // 2\n",
    "        end_index = start_index + slice_2d.shape[0]\n",
    "        \n",
    "        # Perform zooming\n",
    "        zoomed_slice = np.kron(slice_2d, np.ones((zoom_factor, zoom_factor)))\n",
    "        \n",
    "        # Trim the zoomed array to match the desired size\n",
    "        zoomed_slice = zoomed_slice[start_index:end_index, start_index:end_index]\n",
    "        \n",
    "        zoomed_slices.append(zoomed_slice)\n",
    "        \n",
    "        ss = ss + 1\n",
    "    \n",
    "    return zoomed_slices"
   ]
  },
  {
   "cell_type": "code",
   "execution_count": 15,
   "id": "1f25755a",
   "metadata": {},
   "outputs": [],
   "source": [
    "# display DP modulus, DP phase, mask, diffphase, membrane, and rbc images \n",
    "modulus = zoom_slices(np.abs(image_dissolved))\n",
    "phase = zoom_slices(np.angle(image_dissolved))\n",
    "\n",
    "fig, axes = plt.subplots(1, 6, figsize=(4 * 6, 4))\n",
    "\n",
    "# DP modulus\n",
    "axes[0].imshow(skimage.util.montage(modulus, padding_width=1, fill=0), cmap='gray')\n",
    "axes[0].set_title('DP Modulus')\n",
    "           \n",
    "# DP phase\n",
    "axes[1].imshow(skimage.util.montage(phase, padding_width=1, fill=0), cmap='gray')\n",
    "axes[1].set_title('DP Phase')\n",
    "               \n",
    "# mask image\n",
    "axes[2].imshow(skimage.util.montage(zoom_slices(mask), padding_width=1, fill=0), cmap='gray')\n",
    "axes[2].set_title('Mask')\n",
    "\n",
    "# diffphase image\n",
    "axes[3].imshow(skimage.util.montage(zoom_slices(diffphase), padding_width=1, fill=0), cmap='gray')\n",
    "axes[3].set_title('Diffphase')\n",
    "\n",
    "# membrane image\n",
    "axes[4].imshow(skimage.util.montage(zoom_slices(image_membrane), padding_width=1, fill=0), cmap='gray')\n",
    "axes[4].set_title('Membrane')\n",
    "\n",
    "# rbc image\n",
    "axes[5].imshow(skimage.util.montage(zoom_slices(image_rbc), padding_width=1, fill=0), cmap='gray')\n",
    "axes[5].set_title('RBC')\n",
    "\n",
    "plt.show()"
   ]
  },
  {
   "cell_type": "code",
   "execution_count": 23,
   "id": "27f8f3ef",
   "metadata": {},
   "outputs": [],
   "source": [
    "# membrane image\n",
    "plt.imshow(skimage.util.montage(zoom_slices(image_membrane), padding_width=1, fill=0), cmap='gray')\n",
    "plt.show()"
   ]
  },
  {
   "cell_type": "code",
   "execution_count": 24,
   "id": "fc46d7a3",
   "metadata": {},
   "outputs": [],
   "source": [
    "# rbc image\n",
    "plt.imshow(skimage.util.montage(zoom_slices(image_rbc), padding_width=1, fill=0), cmap='gray')\n",
    "plt.show()"
   ]
  }
 ],
 "metadata": {
  "kernelspec": {
   "display_name": "Python 3 (ipykernel)",
   "language": "python",
   "name": "python3"
  },
  "language_info": {
   "codemirror_mode": {
    "name": "ipython",
    "version": 3
   },
   "file_extension": ".py",
   "mimetype": "text/x-python",
   "name": "python",
   "nbconvert_exporter": "python",
   "pygments_lexer": "ipython3",
   "version": "3.8.18"
  }
 },
 "nbformat": 4,
 "nbformat_minor": 5
}
